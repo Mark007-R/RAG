{
 "cells": [
  {
   "cell_type": "code",
   "execution_count": 1,
   "id": "475838fd",
   "metadata": {},
   "outputs": [
    {
     "name": "stdout",
     "output_type": "stream",
     "text": [
      "Requirement already satisfied: weaviate-client in c:\\users\\antho\\appdata\\local\\programs\\python\\python311\\lib\\site-packages (4.6.2)\n",
      "Requirement already satisfied: langchain in c:\\users\\antho\\appdata\\local\\programs\\python\\python311\\lib\\site-packages (0.3.27)\n",
      "Requirement already satisfied: tiktoken in c:\\users\\antho\\appdata\\local\\programs\\python\\python311\\lib\\site-packages (0.11.0)\n",
      "Requirement already satisfied: pypdf in c:\\users\\antho\\appdata\\local\\programs\\python\\python311\\lib\\site-packages (6.0.0)\n",
      "Requirement already satisfied: rapidocr-onnxruntime in c:\\users\\antho\\appdata\\local\\programs\\python\\python311\\lib\\site-packages (1.4.4)\n",
      "Note: you may need to restart the kernel to use updated packages.\n"
     ]
    },
    {
     "name": "stderr",
     "output_type": "stream",
     "text": [
      "ERROR: Could not find a version that satisfies the requirement os (from versions: none)\n",
      "ERROR: No matching distribution found for os\n"
     ]
    }
   ],
   "source": [
    "%pip install weaviate-client langchain tiktoken pypdf rapidocr-onnxruntime os"
   ]
  },
  {
   "cell_type": "code",
   "execution_count": 2,
   "id": "a8a0d9e2",
   "metadata": {},
   "outputs": [],
   "source": [
    "import os\n",
    "from dotenv import load_dotenv"
   ]
  },
  {
   "cell_type": "code",
   "execution_count": 3,
   "id": "42518697",
   "metadata": {},
   "outputs": [],
   "source": [
    "load_dotenv()\n",
    "WEAVIATE_API_KEY = os.getenv(\"WEAVIATE_API_KEY\")"
   ]
  },
  {
   "cell_type": "code",
   "execution_count": 4,
   "id": "f6f56fd5",
   "metadata": {},
   "outputs": [],
   "source": [
    "WEAVIATE_URL=os.getenv(\"WEAVIATE_URL\")\n",
    "# print(WEAVIATE_API_KEY, WEAVIATE_URL)"
   ]
  },
  {
   "cell_type": "code",
   "execution_count": 5,
   "id": "3ccf2d4e",
   "metadata": {},
   "outputs": [
    {
     "name": "stderr",
     "output_type": "stream",
     "text": [
      "c:\\Users\\antho\\AppData\\Local\\Programs\\Python\\Python311\\Lib\\site-packages\\weaviate\\__init__.py:130: DeprecationWarning: Dep010: Importing AuthApiKey from weaviate is deprecated. Import AuthApiKey from its module: weaviate.auth\n",
      "  _Warnings.root_module_import(name, map_[name])\n",
      "c:\\Users\\antho\\AppData\\Local\\Programs\\Python\\Python311\\Lib\\site-packages\\weaviate\\warnings.py:162: DeprecationWarning: Dep016: Python client v3 `weaviate.Client(...)` connections and methods are deprecated. Update\n",
      "            your code to use Python client v4 `weaviate.WeaviateClient` connections and methods.\n",
      "\n",
      "            For Python Client v4 usage, see: https://weaviate.io/developers/weaviate/client-libraries/python\n",
      "            For code migration, see: https://weaviate.io/developers/weaviate/client-libraries/python/v3_v4_migration\n",
      "            \n",
      "  warnings.warn(\n",
      "c:\\Users\\antho\\AppData\\Local\\Programs\\Python\\Python311\\Lib\\site-packages\\weaviate\\warnings.py:133: DeprecationWarning: Dep005: You are using weaviate-client version 4.6.2. The latest version is 4.16.9.\n",
      "            Consider upgrading to the latest version. See https://weaviate.io/developers/weaviate/client-libraries/python for details.\n",
      "  warnings.warn(\n"
     ]
    }
   ],
   "source": [
    "import weaviate\n",
    "client = weaviate.Client(\n",
    "    url=f\"https://{WEAVIATE_URL}\",\n",
    "    auth_client_secret=weaviate.AuthApiKey(WEAVIATE_API_KEY)\n",
    ")"
   ]
  },
  {
   "cell_type": "code",
   "execution_count": 6,
   "id": "7af9fcf3",
   "metadata": {},
   "outputs": [],
   "source": [
    "# import weaviate\n",
    "# from weaviate.classes.init import Auth\n",
    "# client = weaviate.connect_to_weaviate_cloud(\n",
    "#     cluster_url=WEAVIATE_URL,\n",
    "#     auth_credentials=Auth.api_key(WEAVIATE_API_KEY)\n",
    "# )"
   ]
  },
  {
   "cell_type": "code",
   "execution_count": 7,
   "id": "571bc0fd",
   "metadata": {},
   "outputs": [
    {
     "name": "stderr",
     "output_type": "stream",
     "text": [
      "C:\\Users\\antho\\AppData\\Local\\Temp\\ipykernel_7500\\3415835077.py:2: LangChainDeprecationWarning: The class `HuggingFaceEmbeddings` was deprecated in LangChain 0.2.2 and will be removed in 1.0. An updated version of the class exists in the :class:`~langchain-huggingface package and should be used instead. To use it run `pip install -U :class:`~langchain-huggingface` and import as `from :class:`~langchain_huggingface import HuggingFaceEmbeddings``.\n",
      "  embeddings = HuggingFaceEmbeddings(model_name=\"sentence-transformers/all-MiniLM-L6-v2\")\n",
      "c:\\Users\\antho\\AppData\\Local\\Programs\\Python\\Python311\\Lib\\site-packages\\tqdm\\auto.py:21: TqdmWarning: IProgress not found. Please update jupyter and ipywidgets. See https://ipywidgets.readthedocs.io/en/stable/user_install.html\n",
      "  from .autonotebook import tqdm as notebook_tqdm\n"
     ]
    }
   ],
   "source": [
    "from langchain_community.embeddings import HuggingFaceEmbeddings\n",
    "embeddings = HuggingFaceEmbeddings(model_name=\"sentence-transformers/all-MiniLM-L6-v2\")"
   ]
  },
  {
   "cell_type": "code",
   "execution_count": 8,
   "id": "9d9b7009",
   "metadata": {},
   "outputs": [],
   "source": [
    "from langchain_community.document_loaders import PyPDFLoader\n",
    "loader = PyPDFLoader(\"practice.pdf\", extract_images=True)\n",
    "pages = loader.load()"
   ]
  },
  {
   "cell_type": "code",
   "execution_count": 9,
   "id": "89788648",
   "metadata": {},
   "outputs": [],
   "source": [
    "from langchain.document_loaders import PyPDFLoader\n",
    "loader = PyPDFLoader(\"practice.pdf\",extract_images=True)\n",
    "pages = loader.load()"
   ]
  },
  {
   "cell_type": "code",
   "execution_count": 10,
   "id": "836c7dfd",
   "metadata": {},
   "outputs": [],
   "source": [
    "# pages[0].page_content"
   ]
  },
  {
   "cell_type": "code",
   "execution_count": 11,
   "id": "2b88891c",
   "metadata": {},
   "outputs": [],
   "source": [
    "from langchain.text_splitter import RecursiveCharacterTextSplitter\n",
    "text_splitter = RecursiveCharacterTextSplitter(separators=\"\\n\",chunk_size=300, chunk_overlap=30)\n",
    "text = text_splitter.split_documents(pages)"
   ]
  },
  {
   "cell_type": "code",
   "execution_count": 12,
   "id": "b1ba0b42",
   "metadata": {},
   "outputs": [],
   "source": [
    "# text"
   ]
  },
  {
   "cell_type": "code",
   "execution_count": 13,
   "id": "2c65c52b",
   "metadata": {},
   "outputs": [],
   "source": [
    "def clean_metadata(documents):\n",
    "    for doc in documents:\n",
    "        # Remove problematic metadata fields or clean them\n",
    "        if doc.metadata:\n",
    "            # Create a new metadata dict with only valid keys\n",
    "            cleaned_metadata = {}\n",
    "            for key, value in doc.metadata.items():\n",
    "                # Replace dots with underscores and remove any other invalid characters\n",
    "                clean_key = key.replace('.', '_').replace('-', '_')\n",
    "                # Ensure key starts with a letter or underscore\n",
    "                if not clean_key[0].isalpha() and clean_key[0] != '_':\n",
    "                    clean_key = 'f_' + clean_key\n",
    "                cleaned_metadata[clean_key] = value\n",
    "            doc.metadata = cleaned_metadata\n",
    "    return documents\n",
    "\n",
    "# Clean the metadata before creating the vector store\n",
    "cleaned_texts = clean_metadata(text)\n",
    "\n",
    "from langchain_community.vectorstores import Weaviate\n",
    "vector_db = Weaviate.from_documents(\n",
    "    cleaned_texts,\n",
    "    embeddings,\n",
    "    client=client,\n",
    "    by_text=False,\n",
    "    index_name=\"RAG_PDF\"\n",
    ")"
   ]
  },
  {
   "cell_type": "code",
   "execution_count": 14,
   "id": "3f3246f1",
   "metadata": {},
   "outputs": [],
   "source": [
    "# vector_db.similarity_search(\"What is RAG?\", k=2)[0].page_content"
   ]
  },
  {
   "cell_type": "code",
   "execution_count": 15,
   "id": "f49d141d",
   "metadata": {},
   "outputs": [],
   "source": [
    "from langchain import HuggingFaceHub"
   ]
  },
  {
   "cell_type": "code",
   "execution_count": 16,
   "id": "1f3a0b7d",
   "metadata": {},
   "outputs": [
    {
     "name": "stderr",
     "output_type": "stream",
     "text": [
      "C:\\Users\\antho\\AppData\\Local\\Temp\\ipykernel_7500\\3467623277.py:1: LangChainDeprecationWarning: The class `HuggingFaceHub` was deprecated in LangChain 0.0.21 and will be removed in 1.0. An updated version of the class exists in the :class:`~langchain-huggingface package and should be used instead. To use it run `pip install -U :class:`~langchain-huggingface` and import as `from :class:`~langchain_huggingface import HuggingFaceEndpoint``.\n",
      "  model = HuggingFaceHub(\n"
     ]
    }
   ],
   "source": [
    "model = HuggingFaceHub(\n",
    "    huggingfacehub_api_token=os.getenv(\"HUGGINGFACEHUB_API_TOKEN\"),\n",
    "    repo_id=\"mistralai/Mistral-7B-Instruct-v0.1\",\n",
    "    model_kwargs={\"temperature\":1, \"max_length\":180}\n",
    ")"
   ]
  },
  {
   "cell_type": "code",
   "execution_count": 17,
   "id": "1d8edba8",
   "metadata": {},
   "outputs": [],
   "source": [
    "from langchain.prompts import ChatPromptTemplate\n",
    "template = \"\"\"\n",
    "    You are a helpful assistant. Answer the following question based on the context provided.\n",
    "\n",
    "    Context:\n",
    "    {context}\n",
    "\n",
    "    Question:\n",
    "    {question}\n",
    "\n",
    "    Answer:\n",
    "    \"\"\"\n",
    "prompt = ChatPromptTemplate.from_template(template)"
   ]
  },
  {
   "cell_type": "code",
   "execution_count": 18,
   "id": "a2192cb5",
   "metadata": {},
   "outputs": [
    {
     "name": "stderr",
     "output_type": "stream",
     "text": [
      "C:\\Users\\antho\\AppData\\Local\\Temp\\ipykernel_7500\\2842173816.py:2: LangChainDeprecationWarning: The class `Ollama` was deprecated in LangChain 0.3.1 and will be removed in 1.0.0. An updated version of the class exists in the :class:`~langchain-ollama package and should be used instead. To use it run `pip install -U :class:`~langchain-ollama` and import as `from :class:`~langchain_ollama import OllamaLLM``.\n",
      "  llmModel = Ollama(model=\"gemma3:4b\")\n"
     ]
    }
   ],
   "source": [
    "from langchain.llms import Ollama\n",
    "llmModel = Ollama(model=\"gemma3:4b\")"
   ]
  },
  {
   "cell_type": "code",
   "execution_count": 19,
   "id": "1710bcb6",
   "metadata": {},
   "outputs": [],
   "source": [
    "from langchain_core.runnables import  RunnablePassthrough\n",
    "run = RunnablePassthrough()"
   ]
  },
  {
   "cell_type": "code",
   "execution_count": 20,
   "id": "3852fb85",
   "metadata": {},
   "outputs": [],
   "source": [
    "from langchain_core.output_parsers import StrOutputParser\n",
    "output_parser = StrOutputParser()"
   ]
  },
  {
   "cell_type": "code",
   "execution_count": 21,
   "id": "ef6004be",
   "metadata": {},
   "outputs": [],
   "source": [
    "retriever = vector_db.as_retriever()"
   ]
  },
  {
   "cell_type": "code",
   "execution_count": 22,
   "id": "c9c1a273",
   "metadata": {},
   "outputs": [],
   "source": [
    "rag_chain = (\n",
    "    {'context':retriever,'question':run}\n",
    "    | prompt\n",
    "    | llmModel\n",
    "    | output_parser\n",
    ")"
   ]
  },
  {
   "cell_type": "code",
   "execution_count": 23,
   "id": "257dd333",
   "metadata": {},
   "outputs": [
    {
     "data": {
      "text/plain": [
       "'An interactive demo of RAG models can be found at https://huggingface.co/rag/.'"
      ]
     },
     "execution_count": 23,
     "metadata": {},
     "output_type": "execute_result"
    }
   ],
   "source": [
    "rag_chain.invoke('what is RAG?')"
   ]
  }
 ],
 "metadata": {
  "kernelspec": {
   "display_name": "Python 3",
   "language": "python",
   "name": "python3"
  },
  "language_info": {
   "codemirror_mode": {
    "name": "ipython",
    "version": 3
   },
   "file_extension": ".py",
   "mimetype": "text/x-python",
   "name": "python",
   "nbconvert_exporter": "python",
   "pygments_lexer": "ipython3",
   "version": "3.11.9"
  }
 },
 "nbformat": 4,
 "nbformat_minor": 5
}
